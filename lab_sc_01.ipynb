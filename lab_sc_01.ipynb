{
  "nbformat": 4,
  "nbformat_minor": 0,
  "metadata": {
    "colab": {
      "provenance": [],
      "authorship_tag": "ABX9TyMn1MKl8zaZ9KScGtFDwYD4",
      "include_colab_link": true
    },
    "kernelspec": {
      "name": "python3",
      "display_name": "Python 3"
    },
    "language_info": {
      "name": "python"
    }
  },
  "cells": [
    {
      "cell_type": "markdown",
      "metadata": {
        "id": "view-in-github",
        "colab_type": "text"
      },
      "source": [
        "<a href=\"https://colab.research.google.com/github/Felixjuw/Scientific-Computing-Sesi1/blob/main/lab_sc_01.ipynb\" target=\"_parent\"><img src=\"https://colab.research.google.com/assets/colab-badge.svg\" alt=\"Open In Colab\"/></a>"
      ]
    },
    {
      "cell_type": "code",
      "execution_count": 1,
      "metadata": {
        "colab": {
          "base_uri": "https://localhost:8080/"
        },
        "id": "6eMCTW2B5fow",
        "outputId": "94c79836-b201-48dd-a04a-b3bf4bcf3c1e"
      },
      "outputs": [
        {
          "output_type": "execute_result",
          "data": {
            "text/plain": [
              "array([1, 4, 3])"
            ]
          },
          "metadata": {},
          "execution_count": 1
        }
      ],
      "source": [
        "import numpy as np\n",
        "x=np.array([1,4,3])\n",
        "x"
      ]
    },
    {
      "cell_type": "code",
      "source": [
        "import numpy as np\n",
        "y=np.array([[1,4,3],[9,2,7]])\n",
        "y"
      ],
      "metadata": {
        "colab": {
          "base_uri": "https://localhost:8080/"
        },
        "id": "sp3NtSOX_l27",
        "outputId": "28fc598c-7310-4213-ef25-59a25a92c764"
      },
      "execution_count": 2,
      "outputs": [
        {
          "output_type": "execute_result",
          "data": {
            "text/plain": [
              "array([[1, 4, 3],\n",
              "       [9, 2, 7]])"
            ]
          },
          "metadata": {},
          "execution_count": 2
        }
      ]
    },
    {
      "cell_type": "code",
      "source": [
        "def my_Adder(a,b,c):\n",
        "  \"\"\"function to sum the 3 numbers \n",
        "  Input:3 numbers a,b,c\n",
        "  Output:the sum of a,b,and c\n",
        "  author:\n",
        "  date:\n",
        "  \"\"\"\n",
        "  #this is the summation\n",
        "  out=a+b+c\n",
        "  return out\n"
      ],
      "metadata": {
        "id": "NYdR4YPP_9vg"
      },
      "execution_count": 3,
      "outputs": []
    },
    {
      "cell_type": "code",
      "source": [
        "print(my_Adder(3,4,5))\n",
        "help(my_Adder)"
      ],
      "metadata": {
        "colab": {
          "base_uri": "https://localhost:8080/"
        },
        "id": "_T7YaCs0An36",
        "outputId": "c27b48c0-2911-4495-c4a1-aa4bf3b89842"
      },
      "execution_count": 4,
      "outputs": [
        {
          "output_type": "stream",
          "name": "stdout",
          "text": [
            "12\n",
            "Help on function my_Adder in module __main__:\n",
            "\n",
            "my_Adder(a, b, c)\n",
            "    function to sum the 3 numbers \n",
            "    Input:3 numbers a,b,c\n",
            "    Output:the sum of a,b,and c\n",
            "    author:\n",
            "    date:\n",
            "\n"
          ]
        }
      ]
    },
    {
      "cell_type": "code",
      "source": [
        "def my_thermo_stat(temp,desired_temp):\n",
        "  if temp<desired_temp-5:\n",
        "    status='Heat'\n",
        "  elif temp>desired_temp+5:\n",
        "    status='AC'\n",
        "  else:\n",
        "    status='off'\n",
        "  return status"
      ],
      "metadata": {
        "id": "7ptmnFUfC9ik"
      },
      "execution_count": 5,
      "outputs": []
    },
    {
      "cell_type": "code",
      "source": [
        "status=my_thermo_stat(65,75)\n",
        "print(status)"
      ],
      "metadata": {
        "colab": {
          "base_uri": "https://localhost:8080/"
        },
        "id": "uRDw6jpHDv1G",
        "outputId": "fe1b4ed7-b90a-4ec8-d1a2-f3165b06de2e"
      },
      "execution_count": 9,
      "outputs": [
        {
          "output_type": "stream",
          "name": "stdout",
          "text": [
            "Heat\n"
          ]
        }
      ]
    },
    {
      "cell_type": "code",
      "source": [
        "status=my_thermo_stat(75,65)\n",
        "print(status)"
      ],
      "metadata": {
        "colab": {
          "base_uri": "https://localhost:8080/"
        },
        "id": "JK9GVWH8D6oX",
        "outputId": "c8cc74e8-2577-4739-f43e-affa9ba814b3"
      },
      "execution_count": 8,
      "outputs": [
        {
          "output_type": "stream",
          "name": "stdout",
          "text": [
            "AC\n"
          ]
        }
      ]
    },
    {
      "cell_type": "code",
      "source": [
        "status=my_thermo_stat(65,63)\n",
        "print(status)"
      ],
      "metadata": {
        "colab": {
          "base_uri": "https://localhost:8080/"
        },
        "id": "9shaofwqEAVO",
        "outputId": "92e5862e-dff3-4b65-d736-e48083b334d4"
      },
      "execution_count": 10,
      "outputs": [
        {
          "output_type": "stream",
          "name": "stdout",
          "text": [
            "off\n"
          ]
        }
      ]
    },
    {
      "cell_type": "code",
      "source": [
        "x=3\n",
        "if x>1 and x<2:\n",
        "  y=2\n",
        "elif x>2 and x<4:\n",
        "  y=4\n",
        "else:\n",
        "  y=0\n",
        "print(y)"
      ],
      "metadata": {
        "colab": {
          "base_uri": "https://localhost:8080/"
        },
        "id": "SlAA32OkFXtw",
        "outputId": "b715c2fc-8051-4358-87b6-ad49480cc03a"
      },
      "execution_count": 11,
      "outputs": [
        {
          "output_type": "stream",
          "name": "stdout",
          "text": [
            "4\n"
          ]
        }
      ]
    },
    {
      "cell_type": "code",
      "source": [
        "x=3\n",
        "if 1<x<2:\n",
        "    y=2\n",
        "elif 2<x<4:\n",
        "    y=4\n",
        "else:\n",
        "  y=0\n",
        "print(y)\n",
        "\n"
      ],
      "metadata": {
        "colab": {
          "base_uri": "https://localhost:8080/"
        },
        "id": "F5Vzbld7F4Cr",
        "outputId": "a0b5b918-f60f-47c5-81dc-1a14e008e7e8"
      },
      "execution_count": 12,
      "outputs": [
        {
          "output_type": "stream",
          "name": "stdout",
          "text": [
            "4\n"
          ]
        }
      ]
    },
    {
      "cell_type": "code",
      "source": [
        "x = 35e3\n",
        "y = \"HelloWorld\"\n",
        "z = +1.0j\n",
        "\n",
        "print(type(x))\n",
        "print(type(y))\n",
        "print(type(z))"
      ],
      "metadata": {
        "colab": {
          "base_uri": "https://localhost:8080/"
        },
        "id": "NwW3r8dR7WUZ",
        "outputId": "04108bb6-ba21-4a97-9003-a45a0474a067"
      },
      "execution_count": 14,
      "outputs": [
        {
          "output_type": "stream",
          "name": "stdout",
          "text": [
            "<class 'float'>\n",
            "<class 'str'>\n",
            "<class 'complex'>\n"
          ]
        }
      ]
    }
  ]
}